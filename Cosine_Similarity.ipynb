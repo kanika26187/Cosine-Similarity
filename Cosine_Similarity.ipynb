{
  "nbformat": 4,
  "nbformat_minor": 0,
  "metadata": {
    "colab": {
      "provenance": []
    },
    "kernelspec": {
      "name": "python3",
      "display_name": "Python 3"
    },
    "language_info": {
      "name": "python"
    }
  },
  "cells": [
    {
      "cell_type": "code",
      "source": [
        "pip install scikit-learn"
      ],
      "metadata": {
        "colab": {
          "base_uri": "https://localhost:8080/"
        },
        "id": "o0w2YNRl0OIe",
        "outputId": "b44b2d05-0371-461b-b83b-14ad371c9585"
      },
      "execution_count": null,
      "outputs": [
        {
          "output_type": "stream",
          "name": "stdout",
          "text": [
            "Requirement already satisfied: scikit-learn in /usr/local/lib/python3.11/dist-packages (1.6.1)\n",
            "Requirement already satisfied: numpy>=1.19.5 in /usr/local/lib/python3.11/dist-packages (from scikit-learn) (2.0.2)\n",
            "Requirement already satisfied: scipy>=1.6.0 in /usr/local/lib/python3.11/dist-packages (from scikit-learn) (1.15.3)\n",
            "Requirement already satisfied: joblib>=1.2.0 in /usr/local/lib/python3.11/dist-packages (from scikit-learn) (1.5.1)\n",
            "Requirement already satisfied: threadpoolctl>=3.1.0 in /usr/local/lib/python3.11/dist-packages (from scikit-learn) (3.6.0)\n"
          ]
        }
      ]
    },
    {
      "cell_type": "code",
      "source": [
        "from sklearn.feature_extraction.text import CountVectorizer\n",
        "from sklearn.metrics.pairwise import cosine_similarity\n",
        "\n",
        "# Step 1: Input texts\n",
        "text1 = \"Machine learning is the study of computer algorithms that improve automatically through experience.\"\n",
        "text2 = \"Machine learning explores algorithms that learn from data and make predictions.\"\n",
        "\n",
        "# Step 2: Convert texts to vector form\n",
        "vectorizer = CountVectorizer()\n",
        "vectors = vectorizer.fit_transform([text1, text2])\n",
        "\n",
        "# Step 3: Calculate cosine similarity\n",
        "cos_sim = cosine_similarity(vectors[0], vectors[1])\n",
        "\n",
        "# Step 4: Output\n",
        "print(\"Cosine Similarity Score:\", cos_sim[0][0])"
      ],
      "metadata": {
        "colab": {
          "base_uri": "https://localhost:8080/"
        },
        "id": "lsA3g0zv1o_7",
        "outputId": "6d98e3e9-eaff-4feb-cb3e-0e386c6f8f8f"
      },
      "execution_count": null,
      "outputs": [
        {
          "output_type": "stream",
          "name": "stdout",
          "text": [
            "Cosine Similarity Score: 0.3344968040028363\n"
          ]
        }
      ]
    }
  ]
}